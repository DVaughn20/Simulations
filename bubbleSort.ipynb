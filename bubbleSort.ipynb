{
 "cells": [
  {
   "cell_type": "code",
   "execution_count": 1,
   "metadata": {},
   "outputs": [
    {
     "name": "stdout",
     "output_type": "stream",
     "text": [
      "Sorted array1 is:\n",
      "[11, 12, 22, 25, 34, 64, 90]\n",
      "Sorted array2 is:\n",
      "[11, 12, 22, 25, 34, 64]\n",
      "Sorted array3 is:\n",
      "[-64, 25, 34]\n",
      "Sorted array4 is:\n",
      "[]\n",
      "Sorted cards:\n",
      "['10♠', '10♣', '10♥', '10♦', '2♠', '2♣', '2♥', '2♦', '3♠', '3♣', '3♥', '3♦', '4♠', '4♣', '4♥', '4♦', '5♠', '5♣', '5♥', '5♦', '6♠', '6♣', '6♥', '6♦', '7♠', '7♣', '7♥', '7♦', '8♠', '8♣', '8♥', '8♦', '9♠', '9♣', '9♥', '9♦', 'A♠', 'A♣', 'A♥', 'A♦', 'J♠', 'J♣', 'J♥', 'J♦', 'K♠', 'K♣', 'K♥', 'K♦', 'Q♠', 'Q♣', 'Q♥', 'Q♦']\n"
     ]
    }
   ],
   "source": [
    " \n",
    "def bubbleSort(arr):\n",
    "    n = len(arr)\n",
    " \n",
    "    # Traverse through all array elements\n",
    "    for i in range(n):\n",
    " \n",
    "        # Last i elements are already in place\n",
    "        for j in range(0, n-i-1):\n",
    " \n",
    "            # traverse the array from 0 to n-i-1\n",
    "            # Swap if the element found is greater\n",
    "            # than the next element\n",
    "            if arr[j] > arr[j+1] :\n",
    "                arr[j], arr[j+1] = arr[j+1], arr[j]\n",
    " \n",
    "# Driver code to test above\n",
    "arr1 = [64, 34, 25, 12, 22, 11, 90]\n",
    "arr2 = [64, 34, 25, 12, 22, 11]\n",
    "arr3 = [-64, 34, 25]\n",
    "arr4 = []\n",
    " \n",
    "bubbleSort(arr1)\n",
    "bubbleSort(arr2)\n",
    "bubbleSort(arr3)\n",
    "bubbleSort(arr4)\n",
    " \n",
    "print (\"Sorted array1 is:\")\n",
    "print(arr1)\n",
    "\n",
    "print (\"Sorted array2 is:\")\n",
    "print(arr2)\n",
    "\n",
    "print (\"Sorted array3 is:\")\n",
    "print(arr3)\n",
    "\n",
    "print (\"Sorted array4 is:\")\n",
    "print(arr4)\n",
    "\n",
    "cards = ['5♣', '8♠', '4♠', '9♣', 'K♣', '6♣', '5♥', '3♣', '8♥', 'A♥', 'K♥', 'K♦', '10♣', 'Q♣', '7♦', 'Q♦', 'K♠', 'Q♠', 'J♣', '5♦', '9♥', '6♦', '2♣', '7♠', '10♠', '5♠', '4♣', '8♣', '9♠', '6♥', '9♦', '3♥', '3♠', '6♠', '2♥', '10♦', '10♥', 'A♠', 'A♣', 'J♥', '7♣', '4♥', '2♦', '3♦', '2♠', 'Q♥', 'A♦', '7♥', '8♦', 'J♠', 'J♦', '4♦']\n",
    "bubbleSort(cards)\n",
    "print(\"Sorted cards:\" )\n",
    "print(cards)"
   ]
  },
  {
   "cell_type": "code",
   "execution_count": null,
   "metadata": {},
   "outputs": [],
   "source": []
  }
 ],
 "metadata": {
  "kernelspec": {
   "display_name": "Python 3",
   "language": "python",
   "name": "python3"
  },
  "language_info": {
   "codemirror_mode": {
    "name": "ipython",
    "version": 3
   },
   "file_extension": ".py",
   "mimetype": "text/x-python",
   "name": "python",
   "nbconvert_exporter": "python",
   "pygments_lexer": "ipython3",
   "version": "3.7.3"
  }
 },
 "nbformat": 4,
 "nbformat_minor": 2
}
