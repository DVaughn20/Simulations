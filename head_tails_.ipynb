{
 "cells": [
  {
   "cell_type": "code",
   "execution_count": 44,
   "metadata": {},
   "outputs": [
    {
     "name": "stdin",
     "output_type": "stream",
     "text": [
      "How Many Flips? 13\n"
     ]
    },
    {
     "name": "stdout",
     "output_type": "stream",
     "text": [
      "Tails: 5 of 13\n",
      "Percent: 38.46153846153846\n",
      "Heads: 8 of 13\n",
      "Percent: 61.53846153846154\n"
     ]
    }
   ],
   "source": [
    "import numpy as np\n",
    "#import random\n",
    "#import collections\n",
    "\n",
    "#desired_len = 15\n",
    "#desired_value = 1\n",
    "#desired_streaks = 3\n",
    "\n",
    "#num_streak = 0\n",
    "\n",
    "#res = list()\n",
    "\n",
    "#found = 0\n",
    "#have_possible_match = False\n",
    "\n",
    "#for i in range(desired_len):\n",
    "#    value = random.randint(0,1)\n",
    "#    res.append(value)\n",
    "    \n",
    "#    if have_possible_match and value != desired_value:\n",
    "#       num_streaks\n",
    "\n",
    "num_flips = int(input('How Many Flips?'))\n",
    "\n",
    "res = np.random.choice([0, 1], num_flips)\n",
    "\n",
    "num_tails = sum(res)\n",
    "num_heads = num_flips - num_tails\n",
    "\n",
    "pct_heads = num_heads / num_flips * 100\n",
    "pct_tails = 100 - pct_heads\n",
    "\n",
    "#print(num_tails + \"/\" + num_flips)\n",
    "#print(pct_tails + \"%\")\n",
    "#print(num_heads + \"/\" + num_flips)\n",
    "#print(pct_heads + \"%\")\n",
    "print(\"Tails: \" + '{} of {}'.format(num_tails,num_flips))\n",
    "print(f\"Percent: {pct_tails}\")\n",
    "print(\"Heads: \" + '{} of {}'.format(num_heads,num_flips))\n",
    "print(f\"Percent: {pct_heads}\")"
   ]
  },
  {
   "cell_type": "code",
   "execution_count": null,
   "metadata": {},
   "outputs": [],
   "source": []
  }
 ],
 "metadata": {
  "kernelspec": {
   "display_name": "Python 3",
   "language": "python",
   "name": "python3"
  },
  "language_info": {
   "codemirror_mode": {
    "name": "ipython",
    "version": 3
   },
   "file_extension": ".py",
   "mimetype": "text/x-python",
   "name": "python",
   "nbconvert_exporter": "python",
   "pygments_lexer": "ipython3",
   "version": "3.7.3"
  }
 },
 "nbformat": 4,
 "nbformat_minor": 2
}
