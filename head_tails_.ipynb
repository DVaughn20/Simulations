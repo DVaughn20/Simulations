{
 "cells": [
  {
   "cell_type": "code",
   "execution_count": 58,
   "metadata": {},
   "outputs": [
    {
     "name": "stdin",
     "output_type": "stream",
     "text": [
      "How Many Flips? 122\n",
      "Which side are you looking for (0-heads, 1-tails)? 0\n",
      "How long is the streak you are looking for? 13\n"
     ]
    },
    {
     "name": "stdout",
     "output_type": "stream",
     "text": [
      "Tails: 52 of 122\n",
      "Percent: 42.622950819672134\n",
      "Heads: 70 of 122\n",
      "Percent: 57.377049180327866\n",
      "Your streak of 13 repeated 0 values occur 0 times in these results.\n"
     ]
    }
   ],
   "source": [
    "import numpy as np\n",
    "import random\n",
    "import collections\n",
    "\n",
    "num_flips = int(input('How Many Flips?'))\n",
    "desired_value = int(input('Which side are you looking for (0-heads, 1-tails)?'))\n",
    "desired_streaks = int(input('How long is the streak you are looking for?'))\n",
    "res2 = np.random.choice([0, 1], num_flips)\n",
    "\n",
    "num_tails = sum(res2)\n",
    "num_heads = num_flips - num_tails\n",
    "\n",
    "pct_heads = num_heads / num_flips * 100\n",
    "pct_tails = 100 - pct_heads\n",
    "\n",
    "\n",
    "num_streaks = 0\n",
    "\n",
    "res = list()\n",
    "\n",
    "found = 0\n",
    "have_possible_match = False\n",
    "\n",
    "for i in range(num_flips):\n",
    "    value = random.randint(0,1)\n",
    "    res.append(value)\n",
    "    \n",
    "    if have_possible_match and value != desired_value:\n",
    "        num_streaks += 1\n",
    "        found = 0\n",
    "        have_possible_match = False\n",
    "    elif value == desired_value:\n",
    "        found += 1\n",
    "        \n",
    "        if found == desired_streaks:\n",
    "            have_possible_match = True\n",
    "        elif found > desired_streaks:\n",
    "            found = 0\n",
    "            have_possible_match = False\n",
    "            \n",
    "    else:\n",
    "        found = 0\n",
    "        \n",
    "if have_possible_match:\n",
    "    num_streaks += 1\n",
    "    found = 0\n",
    "    have_possible_match = False\n",
    "#print(res)\n",
    "#print(num_streaks)\n",
    "#print(num_tails + \"/\" + num_flips)\n",
    "#print(pct_tails + \"%\")\n",
    "#print(num_heads + \"/\" + num_flips)\n",
    "#print(pct_heads + \"%\")\n",
    "print(\"Tails: \" + '{} of {}'.format(num_tails,num_flips))\n",
    "print(f\"Percent: {pct_tails}\")\n",
    "print(\"Heads: \" + '{} of {}'.format(num_heads,num_flips))\n",
    "print(f\"Percent: {pct_heads}\")\n",
    "print(f\"Your streak of {desired_streaks} repeated {desired_value} values occur {num_streaks} times in these results.\")"
   ]
  },
  {
   "cell_type": "code",
   "execution_count": null,
   "metadata": {},
   "outputs": [],
   "source": []
  },
  {
   "cell_type": "code",
   "execution_count": null,
   "metadata": {},
   "outputs": [],
   "source": []
  }
 ],
 "metadata": {
  "kernelspec": {
   "display_name": "Python 3",
   "language": "python",
   "name": "python3"
  },
  "language_info": {
   "codemirror_mode": {
    "name": "ipython",
    "version": 3
   },
   "file_extension": ".py",
   "mimetype": "text/x-python",
   "name": "python",
   "nbconvert_exporter": "python",
   "pygments_lexer": "ipython3",
   "version": "3.7.3"
  }
 },
 "nbformat": 4,
 "nbformat_minor": 2
}
