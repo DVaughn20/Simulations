{
 "cells": [
  {
   "cell_type": "code",
   "execution_count": null,
   "metadata": {},
   "outputs": [],
   "source": []
  },
  {
   "cell_type": "code",
   "execution_count": 32,
   "metadata": {},
   "outputs": [
    {
     "name": "stdout",
     "output_type": "stream",
     "text": [
      "Sorted array\n",
      "333\n",
      "23\n",
      "14\n",
      "0\n"
     ]
    }
   ],
   "source": [
    "A = [65, -5, 12, 223, 11]\n",
    "B = [23, 14, 0, 333]\n",
    "C = []\n",
    "  \n",
    "# Traverse through all array elements \n",
    "for i in range(len(B)): \n",
    "      \n",
    "    # Find the minimum element in remaining  \n",
    "    # unsorted array \n",
    "    min_idx = i \n",
    "    for j in range(i+1, len(B)): \n",
    "        if B[min_idx] < B[j]: \n",
    "            min_idx = j \n",
    "\n",
    "              \n",
    "    # Swap the found minimum element with  \n",
    "    # the first element         \n",
    "    B[i], B[min_idx] = B[min_idx], B[i] \n",
    "  \n",
    "# Driver code to test above \n",
    "print (\"Sorted array\") \n",
    "for i in range(len(B)): \n",
    "    print(\"%d\" %B[i]),"
   ]
  },
  {
   "cell_type": "code",
   "execution_count": null,
   "metadata": {},
   "outputs": [],
   "source": []
  }
 ],
 "metadata": {
  "kernelspec": {
   "display_name": "Python 3",
   "language": "python",
   "name": "python3"
  },
  "language_info": {
   "codemirror_mode": {
    "name": "ipython",
    "version": 3
   },
   "file_extension": ".py",
   "mimetype": "text/x-python",
   "name": "python",
   "nbconvert_exporter": "python",
   "pygments_lexer": "ipython3",
   "version": "3.7.3"
  }
 },
 "nbformat": 4,
 "nbformat_minor": 2
}
